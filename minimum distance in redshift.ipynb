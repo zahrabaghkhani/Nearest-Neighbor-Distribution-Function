{
 "cells": [
  {
   "cell_type": "code",
   "execution_count": 1,
   "metadata": {},
   "outputs": [],
   "source": [
    "import numpy as np\n",
    "import pandas as pd \n",
    "import matplotlib.pyplot as plt"
   ]
  },
  {
   "cell_type": "code",
   "execution_count": 2,
   "metadata": {},
   "outputs": [],
   "source": [
    "data0 = pd.read_csv('z0m5e11.csv')\n",
    "data05 = pd.read_csv('z05m5e11.csv')\n",
    "data1 = pd.read_csv('z1m5e11.csv')"
   ]
  },
  {
   "cell_type": "markdown",
   "metadata": {},
   "source": [
    "# Minimum distance between halos"
   ]
  },
  {
   "cell_type": "code",
   "execution_count": 3,
   "metadata": {},
   "outputs": [],
   "source": [
    "data0['log_mass'] = np.log10(data0['mass'])\n",
    "data05['log_mass'] = np.log10(data05['mass'])\n",
    "data1['log_mass'] = np.log10(data1['mass'])"
   ]
  },
  {
   "cell_type": "code",
   "execution_count": 4,
   "metadata": {},
   "outputs": [],
   "source": [
    "data1 = data1[(data1['log_mass']>12)&(data1['log_mass']<12.5)]\n",
    "data05= data05[(data05['log_mass']>12)&(data05['log_mass']<12.5)]\n",
    "data0= data0[(data0['log_mass']>12)&(data0['log_mass']<12.5)]\n"
   ]
  },
  {
   "cell_type": "code",
   "execution_count": 5,
   "metadata": {},
   "outputs": [
    {
     "data": {
      "text/plain": [
       "260682"
      ]
     },
     "execution_count": 5,
     "metadata": {},
     "output_type": "execute_result"
    }
   ],
   "source": [
    "len(data0)"
   ]
  },
  {
   "cell_type": "code",
   "execution_count": 5,
   "metadata": {},
   "outputs": [],
   "source": [
    "data0_1 = data0[(data0['x']<200)&(data0['y']<200)&(data0['z']<200)]\n",
    "data0_2 = data0[(data0['x']<200)&(data0['y']<200)&(data0['z']>200)]\n",
    "data0_3 = data0[(data0['x']<200)&(data0['y']>200)&(data0['z']<200)]\n",
    "data0_4 = data0[(data0['x']>200)&(data0['y']<200)&(data0['z']<200)]\n",
    "data0_5 = data0[(data0['x']>200)&(data0['y']>200)&(data0['z']<200)]\n",
    "data0_6 = data0[(data0['x']>200)&(data0['y']<200)&(data0['z']>200)]\n",
    "data0_7 = data0[(data0['x']<200)&(data0['y']>200)&(data0['z']>200)]\n",
    "data0_8 = data0[(data0['x']>200)&(data0['y']>200)&(data0['z']>200)]"
   ]
  },
  {
   "cell_type": "code",
   "execution_count": 6,
   "metadata": {},
   "outputs": [],
   "source": [
    "xyz0_1 = data0_1[['x','y','z']].values\n",
    "xyz0_2 = data0_2[['x','y','z']].values\n",
    "xyz0_3 = data0_3[['x','y','z']].values\n",
    "xyz0_4 = data0_4[['x','y','z']].values\n",
    "xyz0_5 = data0_5[['x','y','z']].values\n",
    "xyz0_6 = data0_6[['x','y','z']].values\n",
    "xyz0_7 = data0_7[['x','y','z']].values\n",
    "xyz0_8 = data0_8[['x','y','z']].values"
   ]
  },
  {
   "cell_type": "code",
   "execution_count": 7,
   "metadata": {},
   "outputs": [
    {
     "name": "stdout",
     "output_type": "stream",
     "text": [
      "Wall time: 5.43 s\n"
     ]
    }
   ],
   "source": [
    "%%time\n",
    "min0_1 = np.zeros(len(xyz0_1))\n",
    "for index,pos in enumerate(xyz0_1):\n",
    "    dist = np.sqrt(np.sum((pos-xyz0_1)**2,axis=1))\n",
    "    min0_1[index] = np.amin(dist[dist!=0])\n",
    "\n",
    "   \n",
    "        "
   ]
  },
  {
   "cell_type": "code",
   "execution_count": 8,
   "metadata": {},
   "outputs": [
    {
     "name": "stdout",
     "output_type": "stream",
     "text": [
      "Wall time: 8 s\n"
     ]
    }
   ],
   "source": [
    "%%time\n",
    "min0_2 = np.zeros(len(xyz0_2))\n",
    "for index,pos in enumerate(xyz0_2):\n",
    "    dist = np.sqrt(np.sum((pos-xyz0_2)**2,axis=1))\n",
    "    min0_2[index] = np.amin(dist[dist!=0])\n",
    "\n",
    "   \n",
    "        "
   ]
  },
  {
   "cell_type": "code",
   "execution_count": 9,
   "metadata": {},
   "outputs": [
    {
     "name": "stdout",
     "output_type": "stream",
     "text": [
      "Wall time: 5.03 s\n"
     ]
    }
   ],
   "source": [
    "%%time\n",
    "min0_3 = np.zeros(len(xyz0_3))\n",
    "for index,pos in enumerate(xyz0_3):\n",
    "    dist = np.sqrt(np.sum((pos-xyz0_3)**2,axis=1))\n",
    "    min0_3[index] = np.amin(dist[dist!=0])\n",
    "\n",
    "   \n",
    "        "
   ]
  },
  {
   "cell_type": "code",
   "execution_count": 10,
   "metadata": {},
   "outputs": [
    {
     "name": "stdout",
     "output_type": "stream",
     "text": [
      "Wall time: 4.6 s\n"
     ]
    }
   ],
   "source": [
    "%%time\n",
    "min0_4 = np.zeros(len(xyz0_4))\n",
    "for index,pos in enumerate(xyz0_4):\n",
    "    dist = np.sqrt(np.sum((pos-xyz0_4)**2,axis=1))\n",
    "    min0_4[index] = np.amin(dist[dist!=0])\n",
    "\n",
    "   \n",
    "        "
   ]
  },
  {
   "cell_type": "code",
   "execution_count": 11,
   "metadata": {},
   "outputs": [
    {
     "name": "stdout",
     "output_type": "stream",
     "text": [
      "Wall time: 5.67 s\n"
     ]
    }
   ],
   "source": [
    "%%time\n",
    "min0_5 = np.zeros(len(xyz0_5))\n",
    "for index,pos in enumerate(xyz0_5):\n",
    "    dist = np.sqrt(np.sum((pos-xyz0_5)**2,axis=1))\n",
    "    min0_5[index] = np.amin(dist[dist!=0])\n",
    "\n",
    "   \n",
    "        "
   ]
  },
  {
   "cell_type": "code",
   "execution_count": 12,
   "metadata": {},
   "outputs": [
    {
     "name": "stdout",
     "output_type": "stream",
     "text": [
      "Wall time: 5.59 s\n"
     ]
    }
   ],
   "source": [
    "%%time\n",
    "min0_6 = np.zeros(len(xyz0_6))\n",
    "for index,pos in enumerate(xyz0_6):\n",
    "    dist = np.sqrt(np.sum((pos-xyz0_6)**2,axis=1))\n",
    "    min0_6[index] = np.amin(dist[dist!=0])\n",
    "\n",
    "   \n",
    "        "
   ]
  },
  {
   "cell_type": "code",
   "execution_count": 13,
   "metadata": {},
   "outputs": [
    {
     "name": "stdout",
     "output_type": "stream",
     "text": [
      "Wall time: 5.82 s\n"
     ]
    }
   ],
   "source": [
    "%%time\n",
    "min0_7 = np.zeros(len(xyz0_7))\n",
    "for index,pos in enumerate(xyz0_7):\n",
    "    dist = np.sqrt(np.sum((pos-xyz0_7)**2,axis=1))\n",
    "    min0_7[index] = np.amin(dist[dist!=0])\n",
    "\n",
    "   \n",
    "        "
   ]
  },
  {
   "cell_type": "code",
   "execution_count": 14,
   "metadata": {},
   "outputs": [
    {
     "name": "stdout",
     "output_type": "stream",
     "text": [
      "Wall time: 5.19 s\n"
     ]
    }
   ],
   "source": [
    "%%time\n",
    "min0_8 = np.zeros(len(xyz0_8))\n",
    "for index,pos in enumerate(xyz0_8):\n",
    "    dist = np.sqrt(np.sum((pos-xyz0_8)**2,axis=1))\n",
    "    min0_8[index] = np.amin(dist[dist!=0])\n",
    "\n",
    "   \n",
    "        "
   ]
  },
  {
   "cell_type": "code",
   "execution_count": 15,
   "metadata": {},
   "outputs": [],
   "source": [
    "bins = np.logspace(-1,1.3,40)"
   ]
  },
  {
   "cell_type": "code",
   "execution_count": 16,
   "metadata": {},
   "outputs": [
    {
     "data": {
      "image/png": "[encoded data removed]",
      "text/plain": [
       "<Figure size 432x288 with 1 Axes>"
      ]
     },
     "metadata": {
      "needs_background": "light"
     },
     "output_type": "display_data"
    }
   ],
   "source": [
    "g0_1,bins,_ = plt.hist(min0_1,bins,density=True)\n",
    "g0_2,bins,_  = plt.hist(min0_2,bins,density=True)\n",
    "g0_3,bins,_  = plt.hist(min0_3,bins,density=True)\n",
    "g0_4,bins,_  = plt.hist(min0_4,bins,density=True)\n",
    "g0_5,bins,_  = plt.hist(min0_5,bins,density=True)\n",
    "g0_6,bins,_  = plt.hist(min0_6,bins,density=True)\n",
    "g0_7,bins,_  = plt.hist(min0_7,bins,density=True)\n",
    "g0_8,bins,_  = plt.hist(min0_8,bins,density=True)"
   ]
  },
  {
   "cell_type": "code",
   "execution_count": 17,
   "metadata": {},
   "outputs": [],
   "source": [
    "data05_1 = data05[(data05['x']<200)&(data05['y']<200)&(data05['z']<200)]\n",
    "data05_2 = data05[(data05['x']<200)&(data05['y']<200)&(data05['z']>200)]\n",
    "data05_3 = data05[(data05['x']<200)&(data05['y']>200)&(data05['z']<200)]\n",
    "data05_4 = data05[(data05['x']>200)&(data05['y']<200)&(data05['z']<200)]\n",
    "data05_5 = data05[(data05['x']>200)&(data05['y']>200)&(data05['z']<200)]\n",
    "data05_6 = data05[(data05['x']>200)&(data05['y']<200)&(data05['z']>200)]\n",
    "data05_7 = data05[(data05['x']<200)&(data05['y']>200)&(data05['z']>200)]\n",
    "data05_8 = data05[(data05['x']>200)&(data05['y']>200)&(data05['z']>200)]"
   ]
  },
  {
   "cell_type": "code",
   "execution_count": 18,
   "metadata": {},
   "outputs": [],
   "source": [
    "xyz05_1 = data05_1[['x','y','z']].values\n",
    "xyz05_2 = data05_2[['x','y','z']].values\n",
    "xyz05_3 = data05_3[['x','y','z']].values\n",
    "xyz05_4 = data05_4[['x','y','z']].values\n",
    "xyz05_5 = data05_5[['x','y','z']].values\n",
    "xyz05_6 = data05_6[['x','y','z']].values\n",
    "xyz05_7 = data05_7[['x','y','z']].values\n",
    "xyz05_8 = data05_8[['x','y','z']].values"
   ]
  },
  {
   "cell_type": "code",
   "execution_count": 19,
   "metadata": {},
   "outputs": [
    {
     "name": "stdout",
     "output_type": "stream",
     "text": [
      "Wall time: 5.61 s\n"
     ]
    }
   ],
   "source": [
    "%%time\n",
    "min05_1 = np.zeros(len(xyz05_1))\n",
    "for index,pos in enumerate(xyz05_1):\n",
    "    dist = np.sqrt(np.sum((pos-xyz05_1)**2,axis=1))\n",
    "    min05_1[index] = np.amin(dist[dist!=0])\n",
    "\n",
    "   \n",
    "        "
   ]
  },
  {
   "cell_type": "code",
   "execution_count": 20,
   "metadata": {},
   "outputs": [
    {
     "name": "stdout",
     "output_type": "stream",
     "text": [
      "Wall time: 5.57 s\n"
     ]
    }
   ],
   "source": [
    "%%time\n",
    "min05_2 = np.zeros(len(xyz05_2))\n",
    "for index,pos in enumerate(xyz05_2):\n",
    "    dist = np.sqrt(np.sum((pos-xyz05_2)**2,axis=1))\n",
    "    min05_2[index] = np.amin(dist[dist!=0])\n",
    "\n",
    "   \n",
    "        "
   ]
  },
  {
   "cell_type": "code",
   "execution_count": 21,
   "metadata": {},
   "outputs": [
    {
     "name": "stdout",
     "output_type": "stream",
     "text": [
      "Wall time: 4.95 s\n"
     ]
    }
   ],
   "source": [
    "%%time\n",
    "min05_3 = np.zeros(len(xyz05_3))\n",
    "for index,pos in enumerate(xyz05_3):\n",
    "    dist = np.sqrt(np.sum((pos-xyz05_3)**2,axis=1))\n",
    "    min05_3[index] = np.amin(dist[dist!=0])\n",
    "\n",
    "   \n",
    "        "
   ]
  },
  {
   "cell_type": "code",
   "execution_count": 22,
   "metadata": {},
   "outputs": [
    {
     "name": "stdout",
     "output_type": "stream",
     "text": [
      "Wall time: 4.77 s\n"
     ]
    }
   ],
   "source": [
    "%%time\n",
    "min05_4 = np.zeros(len(xyz05_4))\n",
    "for index,pos in enumerate(xyz05_4):\n",
    "    dist = np.sqrt(np.sum((pos-xyz05_4)**2,axis=1))\n",
    "    min05_4[index] = np.amin(dist[dist!=0])\n",
    "\n",
    "   \n",
    "        "
   ]
  },
  {
   "cell_type": "code",
   "execution_count": 23,
   "metadata": {},
   "outputs": [
    {
     "name": "stdout",
     "output_type": "stream",
     "text": [
      "Wall time: 5.15 s\n"
     ]
    }
   ],
   "source": [
    "%%time\n",
    "min05_5 = np.zeros(len(xyz05_5))\n",
    "for index,pos in enumerate(xyz05_5):\n",
    "    dist = np.sqrt(np.sum((pos-xyz05_5)**2,axis=1))\n",
    "    min05_5[index] = np.amin(dist[dist!=0])\n",
    "\n",
    "   \n",
    "        "
   ]
  },
  {
   "cell_type": "code",
   "execution_count": 24,
   "metadata": {},
   "outputs": [
    {
     "name": "stdout",
     "output_type": "stream",
     "text": [
      "Wall time: 5.18 s\n"
     ]
    }
   ],
   "source": [
    "%%time\n",
    "min05_6 = np.zeros(len(xyz05_6))\n",
    "for index,pos in enumerate(xyz05_6):\n",
    "    dist = np.sqrt(np.sum((pos-xyz05_6)**2,axis=1))\n",
    "    min05_6[index] = np.amin(dist[dist!=0])\n",
    "\n",
    "   \n",
    "        "
   ]
  },
  {
   "cell_type": "code",
   "execution_count": 25,
   "metadata": {},
   "outputs": [
    {
     "name": "stdout",
     "output_type": "stream",
     "text": [
      "Wall time: 5.74 s\n"
     ]
    }
   ],
   "source": [
    "%%time\n",
    "min05_7 = np.zeros(len(xyz05_7))\n",
    "for index,pos in enumerate(xyz05_7):\n",
    "    dist = np.sqrt(np.sum((pos-xyz05_7)**2,axis=1))\n",
    "    min05_7[index] = np.amin(dist[dist!=0])\n",
    "\n",
    "   \n",
    "        "
   ]
  },
  {
   "cell_type": "code",
   "execution_count": 26,
   "metadata": {},
   "outputs": [
    {
     "name": "stdout",
     "output_type": "stream",
     "text": [
      "Wall time: 5.35 s\n"
     ]
    }
   ],
   "source": [
    "%%time\n",
    "min05_8 = np.zeros(len(xyz05_8))\n",
    "for index,pos in enumerate(xyz05_8):\n",
    "    dist = np.sqrt(np.sum((pos-xyz05_8)**2,axis=1))\n",
    "    min05_8[index] = np.amin(dist[dist!=0])\n",
    "\n",
    "   \n",
    "        "
   ]
  },
  {
   "cell_type": "code",
   "execution_count": 27,
   "metadata": {},
   "outputs": [
    {
     "data": {
      "image/png": "[encoded data removed]",
      "text/plain": [
       "<Figure size 432x288 with 1 Axes>"
      ]
     },
     "metadata": {
      "needs_background": "light"
     },
     "output_type": "display_data"
    }
   ],
   "source": [
    "g05_1,bins,_ = plt.hist(min05_1,bins,density=True)\n",
    "g05_2,bins,_  = plt.hist(min05_2,bins,density=True)\n",
    "g05_3,bins,_  = plt.hist(min05_3,bins,density=True)\n",
    "g05_4,bins,_  = plt.hist(min05_4,bins,density=True)\n",
    "g05_5,bins,_  = plt.hist(min05_5,bins,density=True)\n",
    "g05_6,bins,_  = plt.hist(min05_6,bins,density=True)\n",
    "g05_7,bins,_  = plt.hist(min05_7,bins,density=True)\n",
    "g05_8,bins,_  = plt.hist(min05_8,bins,density=True)"
   ]
  },
  {
   "cell_type": "code",
   "execution_count": 28,
   "metadata": {},
   "outputs": [],
   "source": [
    "data1_1 = data1[(data1['x']<200)&(data1['y']<200)&(data1['z']<200)]\n",
    "data1_2 = data1[(data1['x']<200)&(data1['y']<200)&(data1['z']>200)]\n",
    "data1_3 = data1[(data1['x']<200)&(data1['y']>200)&(data1['z']<200)]\n",
    "data1_4 = data1[(data1['x']>200)&(data1['y']<200)&(data1['z']<200)]\n",
    "data1_5 = data1[(data1['x']>200)&(data1['y']>200)&(data1['z']<200)]\n",
    "data1_6 = data1[(data1['x']>200)&(data1['y']<200)&(data1['z']>200)]\n",
    "data1_7 = data1[(data1['x']<200)&(data1['y']>200)&(data1['z']>200)]\n",
    "data1_8 = data1[(data1['x']>200)&(data1['y']>200)&(data1['z']>200)]"
   ]
  },
  {
   "cell_type": "code",
   "execution_count": 29,
   "metadata": {},
   "outputs": [],
   "source": [
    "xyz1_1 = data1_1[['x','y','z']].values\n",
    "xyz1_2 = data1_2[['x','y','z']].values\n",
    "xyz1_3 = data1_3[['x','y','z']].values\n",
    "xyz1_4 = data1_4[['x','y','z']].values\n",
    "xyz1_5 = data1_5[['x','y','z']].values\n",
    "xyz1_6 = data1_6[['x','y','z']].values\n",
    "xyz1_7 = data1_7[['x','y','z']].values\n",
    "xyz1_8 = data1_8[['x','y','z']].values"
   ]
  },
  {
   "cell_type": "code",
   "execution_count": 30,
   "metadata": {},
   "outputs": [
    {
     "name": "stdout",
     "output_type": "stream",
     "text": [
      "Wall time: 4.28 s\n"
     ]
    }
   ],
   "source": [
    "%%time\n",
    "min1_1 = np.zeros(len(xyz1_1))\n",
    "for index,pos in enumerate(xyz1_1):\n",
    "    dist = np.sqrt(np.sum((pos-xyz1_1)**2,axis=1))\n",
    "    min1_1[index] = np.amin(dist[dist!=0])\n",
    "\n",
    "   \n",
    "        "
   ]
  },
  {
   "cell_type": "code",
   "execution_count": 31,
   "metadata": {},
   "outputs": [
    {
     "name": "stdout",
     "output_type": "stream",
     "text": [
      "Wall time: 4.93 s\n"
     ]
    }
   ],
   "source": [
    "%%time\n",
    "min1_2 = np.zeros(len(xyz1_2))\n",
    "for index,pos in enumerate(xyz1_2):\n",
    "    dist = np.sqrt(np.sum((pos-xyz1_2)**2,axis=1))\n",
    "    min1_2[index] = np.amin(dist[dist!=0])\n",
    "\n",
    "   \n",
    "        "
   ]
  },
  {
   "cell_type": "code",
   "execution_count": 32,
   "metadata": {},
   "outputs": [
    {
     "name": "stdout",
     "output_type": "stream",
     "text": [
      "Wall time: 4.53 s\n"
     ]
    }
   ],
   "source": [
    "%%time\n",
    "min1_3 = np.zeros(len(xyz1_3))\n",
    "for index,pos in enumerate(xyz1_3):\n",
    "    dist = np.sqrt(np.sum((pos-xyz1_3)**2,axis=1))\n",
    "    min1_3[index] = np.amin(dist[dist!=0])\n",
    "\n",
    "   \n",
    "        "
   ]
  },
  {
   "cell_type": "code",
   "execution_count": 33,
   "metadata": {},
   "outputs": [
    {
     "name": "stdout",
     "output_type": "stream",
     "text": [
      "Wall time: 4.12 s\n"
     ]
    }
   ],
   "source": [
    "%%time\n",
    "min1_4 = np.zeros(len(xyz1_4))\n",
    "for index,pos in enumerate(xyz1_4):\n",
    "    dist = np.sqrt(np.sum((pos-xyz1_4)**2,axis=1))\n",
    "    min1_4[index] = np.amin(dist[dist!=0])\n",
    "\n",
    "   \n",
    "        "
   ]
  },
  {
   "cell_type": "code",
   "execution_count": 34,
   "metadata": {},
   "outputs": [
    {
     "name": "stdout",
     "output_type": "stream",
     "text": [
      "Wall time: 4.64 s\n"
     ]
    }
   ],
   "source": [
    "%%time\n",
    "min1_5 = np.zeros(len(xyz1_5))\n",
    "for index,pos in enumerate(xyz1_5):\n",
    "    dist = np.sqrt(np.sum((pos-xyz1_5)**2,axis=1))\n",
    "    min1_5[index] = np.amin(dist[dist!=0])\n",
    "\n",
    "   \n",
    "        "
   ]
  },
  {
   "cell_type": "code",
   "execution_count": 35,
   "metadata": {},
   "outputs": [
    {
     "name": "stdout",
     "output_type": "stream",
     "text": [
      "Wall time: 4.34 s\n"
     ]
    }
   ],
   "source": [
    "%%time\n",
    "min1_6 = np.zeros(len(xyz1_6))\n",
    "for index,pos in enumerate(xyz1_6):\n",
    "    dist = np.sqrt(np.sum((pos-xyz1_6)**2,axis=1))\n",
    "    min1_6[index] = np.amin(dist[dist!=0])\n",
    "\n",
    "   \n",
    "        "
   ]
  },
  {
   "cell_type": "code",
   "execution_count": 36,
   "metadata": {},
   "outputs": [
    {
     "name": "stdout",
     "output_type": "stream",
     "text": [
      "Wall time: 4.92 s\n"
     ]
    }
   ],
   "source": [
    "%%time\n",
    "min1_7 = np.zeros(len(xyz1_7))\n",
    "for index,pos in enumerate(xyz1_7):\n",
    "    dist = np.sqrt(np.sum((pos-xyz1_7)**2,axis=1))\n",
    "    min1_7[index] = np.amin(dist[dist!=0])\n",
    "\n",
    "   \n",
    "        "
   ]
  },
  {
   "cell_type": "code",
   "execution_count": 37,
   "metadata": {},
   "outputs": [
    {
     "name": "stdout",
     "output_type": "stream",
     "text": [
      "Wall time: 4.5 s\n"
     ]
    }
   ],
   "source": [
    "%%time\n",
    "min1_8 = np.zeros(len(xyz1_8))\n",
    "for index,pos in enumerate(xyz1_8):\n",
    "    dist = np.sqrt(np.sum((pos-xyz1_8)**2,axis=1))\n",
    "    min1_8[index] = np.amin(dist[dist!=0])\n",
    "\n",
    "   \n",
    "        "
   ]
  },
  {
   "cell_type": "code",
   "execution_count": 38,
   "metadata": {},
   "outputs": [
    {
     "data": {
      "image/png": "[encoded data removed]",
      "text/plain": [
       "<Figure size 432x288 with 1 Axes>"
      ]
     },
     "metadata": {
      "needs_background": "light"
     },
     "output_type": "display_data"
    }
   ],
   "source": [
    "g1_1,bins,_ = plt.hist(min1_1,bins,density=True)\n",
    "g1_2,bins,_  = plt.hist(min1_2,bins,density=True)\n",
    "g1_3,bins,_  = plt.hist(min1_3,bins,density=True)\n",
    "g1_4,bins,_  = plt.hist(min1_4,bins,density=True)\n",
    "g1_5,bins,_  = plt.hist(min1_5,bins,density=True)\n",
    "g1_6,bins,_  = plt.hist(min1_6,bins,density=True)\n",
    "g1_7,bins,_  = plt.hist(min1_7,bins,density=True)\n",
    "g1_8,bins,_  = plt.hist(min1_8,bins,density=True)"
   ]
  },
  {
   "cell_type": "code",
   "execution_count": 39,
   "metadata": {},
   "outputs": [],
   "source": [
    "g_0_mean12 = np.mean((g0_1,g0_2,g0_3,g0_4,g0_5,g0_6,g0_7,g0_8),axis = 0)\n",
    "g_0_std12 = np.std((g0_1,g0_2,g0_3,g0_4,g0_5,g0_6,g0_7,g0_8),axis = 0)\n",
    "\n",
    "g_05_mean12 = np.mean((g05_1,g05_2,g05_3,g05_4,g05_5,g05_6,g05_7,g05_8),axis = 0)\n",
    "g_05_std12 = np.std((g05_1,g05_2,g05_3,g05_4,g05_5,g05_6,g05_7,g05_8),axis = 0)\n",
    "\n",
    "\n",
    "g_1_mean12 = np.mean((g1_1,g1_2,g1_3,g1_4,g1_5,g1_6,g1_7,g1_8),axis = 0)\n",
    "g_1_std12 = np.std((g1_1,g1_2,g1_3,g1_4,g1_5,g1_6,g1_7,g1_8),axis = 0)"
   ]
  },
  {
   "cell_type": "code",
   "execution_count": 41,
   "metadata": {},
   "outputs": [
    {
     "data": {
      "text/plain": [
       "(39,)"
      ]
     },
     "execution_count": 41,
     "metadata": {},
     "output_type": "execute_result"
    }
   ],
   "source": [
    "g_0_mean12.shape"
   ]
  },
  {
   "cell_type": "code",
   "execution_count": 40,
   "metadata": {},
   "outputs": [],
   "source": [
    "data0 = pd.read_csv('z0m5e11.csv')\n",
    "data05 = pd.read_csv('z05m5e11.csv')\n",
    "data1 = pd.read_csv('z1m5e11.csv')"
   ]
  },
  {
   "cell_type": "markdown",
   "metadata": {},
   "source": [
    "# Minimum distance between halos"
   ]
  },
  {
   "cell_type": "code",
   "execution_count": 41,
   "metadata": {},
   "outputs": [],
   "source": [
    "data0['log_mass'] = np.log10(data0['mass'])\n",
    "data05['log_mass'] = np.log10(data05['mass'])\n",
    "data1['log_mass'] = np.log10(data1['mass'])"
   ]
  },
  {
   "cell_type": "code",
   "execution_count": 42,
   "metadata": {},
   "outputs": [],
   "source": [
    "data1 = data1[(data1['log_mass']>12.5)&(data1['log_mass']<13.0)]\n",
    "data05= data05[(data05['log_mass']>12.5)&(data05['log_mass']<13.0)]\n",
    "data0= data0[(data0['log_mass']>12.5)&(data0['log_mass']<13.0)]\n"
   ]
  },
  {
   "cell_type": "code",
   "execution_count": 43,
   "metadata": {},
   "outputs": [
    {
     "data": {
      "text/plain": [
       "60709"
      ]
     },
     "execution_count": 43,
     "metadata": {},
     "output_type": "execute_result"
    }
   ],
   "source": [
    "len(data0)"
   ]
  },
  {
   "cell_type": "code",
   "execution_count": 44,
   "metadata": {},
   "outputs": [],
   "source": [
    "data0_1 = data0[(data0['x']<200)&(data0['y']<200)&(data0['z']<200)]\n",
    "data0_2 = data0[(data0['x']<200)&(data0['y']<200)&(data0['z']>200)]\n",
    "data0_3 = data0[(data0['x']<200)&(data0['y']>200)&(data0['z']<200)]\n",
    "data0_4 = data0[(data0['x']>200)&(data0['y']<200)&(data0['z']<200)]\n",
    "data0_5 = data0[(data0['x']>200)&(data0['y']>200)&(data0['z']<200)]\n",
    "data0_6 = data0[(data0['x']>200)&(data0['y']<200)&(data0['z']>200)]\n",
    "data0_7 = data0[(data0['x']<200)&(data0['y']>200)&(data0['z']>200)]\n",
    "data0_8 = data0[(data0['x']>200)&(data0['y']>200)&(data0['z']>200)]"
   ]
  },
  {
   "cell_type": "code",
   "execution_count": 45,
   "metadata": {},
   "outputs": [],
   "source": [
    "xyz0_1 = data0_1[['x','y','z']].values\n",
    "xyz0_2 = data0_2[['x','y','z']].values\n",
    "xyz0_3 = data0_3[['x','y','z']].values\n",
    "xyz0_4 = data0_4[['x','y','z']].values\n",
    "xyz0_5 = data0_5[['x','y','z']].values\n",
    "xyz0_6 = data0_6[['x','y','z']].values\n",
    "xyz0_7 = data0_7[['x','y','z']].values\n",
    "xyz0_8 = data0_8[['x','y','z']].values"
   ]
  },
  {
   "cell_type": "code",
   "execution_count": 46,
   "metadata": {},
   "outputs": [
    {
     "name": "stdout",
     "output_type": "stream",
     "text": [
      "Wall time: 1.22 s\n"
     ]
    }
   ],
   "source": [
    "%%time\n",
    "min0_1 = np.zeros(len(xyz0_1))\n",
    "for index,pos in enumerate(xyz0_1):\n",
    "    dist = np.sqrt(np.sum((pos-xyz0_1)**2,axis=1))\n",
    "    min0_1[index] = np.amin(dist[dist!=0])\n",
    "\n",
    "   \n",
    "        "
   ]
  },
  {
   "cell_type": "code",
   "execution_count": 47,
   "metadata": {},
   "outputs": [
    {
     "name": "stdout",
     "output_type": "stream",
     "text": [
      "Wall time: 1.23 s\n"
     ]
    }
   ],
   "source": [
    "%%time\n",
    "min0_2 = np.zeros(len(xyz0_2))\n",
    "for index,pos in enumerate(xyz0_2):\n",
    "    dist = np.sqrt(np.sum((pos-xyz0_2)**2,axis=1))\n",
    "    min0_2[index] = np.amin(dist[dist!=0])\n",
    "\n",
    "   \n",
    "        "
   ]
  },
  {
   "cell_type": "code",
   "execution_count": 48,
   "metadata": {},
   "outputs": [
    {
     "name": "stdout",
     "output_type": "stream",
     "text": [
      "Wall time: 1.14 s\n"
     ]
    }
   ],
   "source": [
    "%%time\n",
    "min0_3 = np.zeros(len(xyz0_3))\n",
    "for index,pos in enumerate(xyz0_3):\n",
    "    dist = np.sqrt(np.sum((pos-xyz0_3)**2,axis=1))\n",
    "    min0_3[index] = np.amin(dist[dist!=0])\n",
    "\n",
    "   \n",
    "        "
   ]
  },
  {
   "cell_type": "code",
   "execution_count": 49,
   "metadata": {},
   "outputs": [
    {
     "name": "stdout",
     "output_type": "stream",
     "text": [
      "Wall time: 1.17 s\n"
     ]
    }
   ],
   "source": [
    "%%time\n",
    "min0_4 = np.zeros(len(xyz0_4))\n",
    "for index,pos in enumerate(xyz0_4):\n",
    "    dist = np.sqrt(np.sum((pos-xyz0_4)**2,axis=1))\n",
    "    min0_4[index] = np.amin(dist[dist!=0])\n",
    "\n",
    "   \n",
    "        "
   ]
  },
  {
   "cell_type": "code",
   "execution_count": 50,
   "metadata": {},
   "outputs": [
    {
     "name": "stdout",
     "output_type": "stream",
     "text": [
      "Wall time: 1.25 s\n"
     ]
    }
   ],
   "source": [
    "%%time\n",
    "min0_5 = np.zeros(len(xyz0_5))\n",
    "for index,pos in enumerate(xyz0_5):\n",
    "    dist = np.sqrt(np.sum((pos-xyz0_5)**2,axis=1))\n",
    "    min0_5[index] = np.amin(dist[dist!=0])\n",
    "\n",
    "   \n",
    "        "
   ]
  },
  {
   "cell_type": "code",
   "execution_count": 51,
   "metadata": {},
   "outputs": [
    {
     "name": "stdout",
     "output_type": "stream",
     "text": [
      "Wall time: 1.2 s\n"
     ]
    }
   ],
   "source": [
    "%%time\n",
    "min0_6 = np.zeros(len(xyz0_6))\n",
    "for index,pos in enumerate(xyz0_6):\n",
    "    dist = np.sqrt(np.sum((pos-xyz0_6)**2,axis=1))\n",
    "    min0_6[index] = np.amin(dist[dist!=0])\n",
    "\n",
    "   \n",
    "        "
   ]
  },
  {
   "cell_type": "code",
   "execution_count": 52,
   "metadata": {},
   "outputs": [
    {
     "name": "stdout",
     "output_type": "stream",
     "text": [
      "Wall time: 1.38 s\n"
     ]
    }
   ],
   "source": [
    "%%time\n",
    "min0_7 = np.zeros(len(xyz0_7))\n",
    "for index,pos in enumerate(xyz0_7):\n",
    "    dist = np.sqrt(np.sum((pos-xyz0_7)**2,axis=1))\n",
    "    min0_7[index] = np.amin(dist[dist!=0])\n",
    "\n",
    "   \n",
    "        "
   ]
  },
  {
   "cell_type": "code",
   "execution_count": 53,
   "metadata": {},
   "outputs": [
    {
     "name": "stdout",
     "output_type": "stream",
     "text": [
      "Wall time: 1.34 s\n"
     ]
    }
   ],
   "source": [
    "%%time\n",
    "min0_8 = np.zeros(len(xyz0_8))\n",
    "for index,pos in enumerate(xyz0_8):\n",
    "    dist = np.sqrt(np.sum((pos-xyz0_8)**2,axis=1))\n",
    "    min0_8[index] = np.amin(dist[dist!=0])\n",
    "\n",
    "   \n",
    "        "
   ]
  },
  {
   "cell_type": "code",
   "execution_count": 54,
   "metadata": {},
   "outputs": [
    {
     "data": {
      "image/png": "[encoded data removed]",
      "text/plain": [
       "<Figure size 432x288 with 1 Axes>"
      ]
     },
     "metadata": {
      "needs_background": "light"
     },
     "output_type": "display_data"
    }
   ],
   "source": [
    "g0_1,bins,_ = plt.hist(min0_1,bins,density=True)\n",
    "g0_2,bins,_  = plt.hist(min0_2,bins,density=True)\n",
    "g0_3,bins,_  = plt.hist(min0_3,bins,density=True)\n",
    "g0_4,bins,_  = plt.hist(min0_4,bins,density=True)\n",
    "g0_5,bins,_  = plt.hist(min0_5,bins,density=True)\n",
    "g0_6,bins,_  = plt.hist(min0_6,bins,density=True)\n",
    "g0_7,bins,_  = plt.hist(min0_7,bins,density=True)\n",
    "g0_8,bins,_  = plt.hist(min0_8,bins,density=True)"
   ]
  },
  {
   "cell_type": "code",
   "execution_count": null,
   "metadata": {},
   "outputs": [],
   "source": []
  },
  {
   "cell_type": "code",
   "execution_count": null,
   "metadata": {},
   "outputs": [],
   "source": []
  },
  {
   "cell_type": "code",
   "execution_count": 55,
   "metadata": {},
   "outputs": [],
   "source": [
    "data05_1 = data05[(data05['x']<200)&(data05['y']<200)&(data05['z']<200)]\n",
    "data05_2 = data05[(data05['x']<200)&(data05['y']<200)&(data05['z']>200)]\n",
    "data05_3 = data05[(data05['x']<200)&(data05['y']>200)&(data05['z']<200)]\n",
    "data05_4 = data05[(data05['x']>200)&(data05['y']<200)&(data05['z']<200)]\n",
    "data05_5 = data05[(data05['x']>200)&(data05['y']>200)&(data05['z']<200)]\n",
    "data05_6 = data05[(data05['x']>200)&(data05['y']<200)&(data05['z']>200)]\n",
    "data05_7 = data05[(data05['x']<200)&(data05['y']>200)&(data05['z']>200)]\n",
    "data05_8 = data05[(data05['x']>200)&(data05['y']>200)&(data05['z']>200)]"
   ]
  },
  {
   "cell_type": "code",
   "execution_count": 56,
   "metadata": {},
   "outputs": [],
   "source": [
    "xyz05_1 = data05_1[['x','y','z']].values\n",
    "xyz05_2 = data05_2[['x','y','z']].values\n",
    "xyz05_3 = data05_3[['x','y','z']].values\n",
    "xyz05_4 = data05_4[['x','y','z']].values\n",
    "xyz05_5 = data05_5[['x','y','z']].values\n",
    "xyz05_6 = data05_6[['x','y','z']].values\n",
    "xyz05_7 = data05_7[['x','y','z']].values\n",
    "xyz05_8 = data05_8[['x','y','z']].values"
   ]
  },
  {
   "cell_type": "code",
   "execution_count": 57,
   "metadata": {},
   "outputs": [
    {
     "name": "stdout",
     "output_type": "stream",
     "text": [
      "Wall time: 1.04 s\n"
     ]
    }
   ],
   "source": [
    "%%time\n",
    "min05_1 = np.zeros(len(xyz05_1))\n",
    "for index,pos in enumerate(xyz05_1):\n",
    "    dist = np.sqrt(np.sum((pos-xyz05_1)**2,axis=1))\n",
    "    min05_1[index] = np.amin(dist[dist!=0])\n",
    "\n",
    "   \n",
    "        "
   ]
  },
  {
   "cell_type": "code",
   "execution_count": 58,
   "metadata": {},
   "outputs": [
    {
     "name": "stdout",
     "output_type": "stream",
     "text": [
      "Wall time: 1.02 s\n"
     ]
    }
   ],
   "source": [
    "%%time\n",
    "min05_2 = np.zeros(len(xyz05_2))\n",
    "for index,pos in enumerate(xyz05_2):\n",
    "    dist = np.sqrt(np.sum((pos-xyz05_2)**2,axis=1))\n",
    "    min05_2[index] = np.amin(dist[dist!=0])\n",
    "\n",
    "   \n",
    "        "
   ]
  },
  {
   "cell_type": "code",
   "execution_count": 59,
   "metadata": {},
   "outputs": [
    {
     "name": "stdout",
     "output_type": "stream",
     "text": [
      "Wall time: 970 ms\n"
     ]
    }
   ],
   "source": [
    "%%time\n",
    "min05_3 = np.zeros(len(xyz05_3))\n",
    "for index,pos in enumerate(xyz05_3):\n",
    "    dist = np.sqrt(np.sum((pos-xyz05_3)**2,axis=1))\n",
    "    min05_3[index] = np.amin(dist[dist!=0])\n",
    "\n",
    "   \n",
    "        "
   ]
  },
  {
   "cell_type": "code",
   "execution_count": 60,
   "metadata": {},
   "outputs": [
    {
     "name": "stdout",
     "output_type": "stream",
     "text": [
      "Wall time: 964 ms\n"
     ]
    }
   ],
   "source": [
    "%%time\n",
    "min05_4 = np.zeros(len(xyz05_4))\n",
    "for index,pos in enumerate(xyz05_4):\n",
    "    dist = np.sqrt(np.sum((pos-xyz05_4)**2,axis=1))\n",
    "    min05_4[index] = np.amin(dist[dist!=0])\n",
    "\n",
    "   \n",
    "        "
   ]
  },
  {
   "cell_type": "code",
   "execution_count": 61,
   "metadata": {},
   "outputs": [
    {
     "name": "stdout",
     "output_type": "stream",
     "text": [
      "Wall time: 1.02 s\n"
     ]
    }
   ],
   "source": [
    "%%time\n",
    "min05_5 = np.zeros(len(xyz05_5))\n",
    "for index,pos in enumerate(xyz05_5):\n",
    "    dist = np.sqrt(np.sum((pos-xyz05_5)**2,axis=1))\n",
    "    min05_5[index] = np.amin(dist[dist!=0])\n",
    "\n",
    "   \n",
    "        "
   ]
  },
  {
   "cell_type": "code",
   "execution_count": 62,
   "metadata": {},
   "outputs": [
    {
     "name": "stdout",
     "output_type": "stream",
     "text": [
      "Wall time: 1.09 s\n"
     ]
    }
   ],
   "source": [
    "%%time\n",
    "min05_6 = np.zeros(len(xyz05_6))\n",
    "for index,pos in enumerate(xyz05_6):\n",
    "    dist = np.sqrt(np.sum((pos-xyz05_6)**2,axis=1))\n",
    "    min05_6[index] = np.amin(dist[dist!=0])\n",
    "\n",
    "   \n",
    "        "
   ]
  },
  {
   "cell_type": "code",
   "execution_count": 63,
   "metadata": {},
   "outputs": [
    {
     "name": "stdout",
     "output_type": "stream",
     "text": [
      "Wall time: 1.17 s\n"
     ]
    }
   ],
   "source": [
    "%%time\n",
    "min05_7 = np.zeros(len(xyz05_7))\n",
    "for index,pos in enumerate(xyz05_7):\n",
    "    dist = np.sqrt(np.sum((pos-xyz05_7)**2,axis=1))\n",
    "    min05_7[index] = np.amin(dist[dist!=0])\n",
    "\n",
    "   \n",
    "        "
   ]
  },
  {
   "cell_type": "code",
   "execution_count": 64,
   "metadata": {},
   "outputs": [
    {
     "name": "stdout",
     "output_type": "stream",
     "text": [
      "Wall time: 1.11 s\n"
     ]
    }
   ],
   "source": [
    "%%time\n",
    "min05_8 = np.zeros(len(xyz05_8))\n",
    "for index,pos in enumerate(xyz05_8):\n",
    "    dist = np.sqrt(np.sum((pos-xyz05_8)**2,axis=1))\n",
    "    min05_8[index] = np.amin(dist[dist!=0])\n",
    "\n",
    "   \n",
    "        "
   ]
  },
  {
   "cell_type": "code",
   "execution_count": 65,
   "metadata": {},
   "outputs": [
    {
     "data": {
      "image/png": "[encoded data removed]",
      "text/plain": [
       "<Figure size 432x288 with 1 Axes>"
      ]
     },
     "metadata": {
      "needs_background": "light"
     },
     "output_type": "display_data"
    }
   ],
   "source": [
    "g05_1,bins,_ = plt.hist(min05_1,bins,density=True)\n",
    "g05_2,bins,_  = plt.hist(min05_2,bins,density=True)\n",
    "g05_3,bins,_  = plt.hist(min05_3,bins,density=True)\n",
    "g05_4,bins,_  = plt.hist(min05_4,bins,density=True)\n",
    "g05_5,bins,_  = plt.hist(min05_5,bins,density=True)\n",
    "g05_6,bins,_  = plt.hist(min05_6,bins,density=True)\n",
    "g05_7,bins,_  = plt.hist(min05_7,bins,density=True)\n",
    "g05_8,bins,_  = plt.hist(min05_8,bins,density=True)"
   ]
  },
  {
   "cell_type": "code",
   "execution_count": null,
   "metadata": {},
   "outputs": [],
   "source": []
  },
  {
   "cell_type": "code",
   "execution_count": null,
   "metadata": {},
   "outputs": [],
   "source": []
  },
  {
   "cell_type": "code",
   "execution_count": null,
   "metadata": {},
   "outputs": [],
   "source": []
  },
  {
   "cell_type": "code",
   "execution_count": 66,
   "metadata": {},
   "outputs": [],
   "source": [
    "data1_1 = data1[(data1['x']<200)&(data1['y']<200)&(data1['z']<200)]\n",
    "data1_2 = data1[(data1['x']<200)&(data1['y']<200)&(data1['z']>200)]\n",
    "data1_3 = data1[(data1['x']<200)&(data1['y']>200)&(data1['z']<200)]\n",
    "data1_4 = data1[(data1['x']>200)&(data1['y']<200)&(data1['z']<200)]\n",
    "data1_5 = data1[(data1['x']>200)&(data1['y']>200)&(data1['z']<200)]\n",
    "data1_6 = data1[(data1['x']>200)&(data1['y']<200)&(data1['z']>200)]\n",
    "data1_7 = data1[(data1['x']<200)&(data1['y']>200)&(data1['z']>200)]\n",
    "data1_8 = data1[(data1['x']>200)&(data1['y']>200)&(data1['z']>200)]"
   ]
  },
  {
   "cell_type": "code",
   "execution_count": 67,
   "metadata": {},
   "outputs": [],
   "source": [
    "xyz1_1 = data1_1[['x','y','z']].values\n",
    "xyz1_2 = data1_2[['x','y','z']].values\n",
    "xyz1_3 = data1_3[['x','y','z']].values\n",
    "xyz1_4 = data1_4[['x','y','z']].values\n",
    "xyz1_5 = data1_5[['x','y','z']].values\n",
    "xyz1_6 = data1_6[['x','y','z']].values\n",
    "xyz1_7 = data1_7[['x','y','z']].values\n",
    "xyz1_8 = data1_8[['x','y','z']].values"
   ]
  },
  {
   "cell_type": "code",
   "execution_count": 68,
   "metadata": {},
   "outputs": [
    {
     "name": "stdout",
     "output_type": "stream",
     "text": [
      "Wall time: 833 ms\n"
     ]
    }
   ],
   "source": [
    "%%time\n",
    "min1_1 = np.zeros(len(xyz1_1))\n",
    "for index,pos in enumerate(xyz1_1):\n",
    "    dist = np.sqrt(np.sum((pos-xyz1_1)**2,axis=1))\n",
    "    min1_1[index] = np.amin(dist[dist!=0])\n",
    "\n",
    "   \n",
    "        "
   ]
  },
  {
   "cell_type": "code",
   "execution_count": 69,
   "metadata": {},
   "outputs": [
    {
     "name": "stdout",
     "output_type": "stream",
     "text": [
      "Wall time: 761 ms\n"
     ]
    }
   ],
   "source": [
    "%%time\n",
    "min1_2 = np.zeros(len(xyz1_2))\n",
    "for index,pos in enumerate(xyz1_2):\n",
    "    dist = np.sqrt(np.sum((pos-xyz1_2)**2,axis=1))\n",
    "    min1_2[index] = np.amin(dist[dist!=0])\n",
    "\n",
    "   \n",
    "        "
   ]
  },
  {
   "cell_type": "code",
   "execution_count": 70,
   "metadata": {},
   "outputs": [
    {
     "name": "stdout",
     "output_type": "stream",
     "text": [
      "Wall time: 707 ms\n"
     ]
    }
   ],
   "source": [
    "%%time\n",
    "min1_3 = np.zeros(len(xyz1_3))\n",
    "for index,pos in enumerate(xyz1_3):\n",
    "    dist = np.sqrt(np.sum((pos-xyz1_3)**2,axis=1))\n",
    "    min1_3[index] = np.amin(dist[dist!=0])\n",
    "\n",
    "   \n",
    "        "
   ]
  },
  {
   "cell_type": "code",
   "execution_count": 71,
   "metadata": {},
   "outputs": [
    {
     "name": "stdout",
     "output_type": "stream",
     "text": [
      "Wall time: 753 ms\n"
     ]
    }
   ],
   "source": [
    "%%time\n",
    "min1_4 = np.zeros(len(xyz1_4))\n",
    "for index,pos in enumerate(xyz1_4):\n",
    "    dist = np.sqrt(np.sum((pos-xyz1_4)**2,axis=1))\n",
    "    min1_4[index] = np.amin(dist[dist!=0])\n",
    "\n",
    "   \n",
    "        "
   ]
  },
  {
   "cell_type": "code",
   "execution_count": 72,
   "metadata": {},
   "outputs": [
    {
     "name": "stdout",
     "output_type": "stream",
     "text": [
      "Wall time: 755 ms\n"
     ]
    }
   ],
   "source": [
    "%%time\n",
    "min1_5 = np.zeros(len(xyz1_5))\n",
    "for index,pos in enumerate(xyz1_5):\n",
    "    dist = np.sqrt(np.sum((pos-xyz1_5)**2,axis=1))\n",
    "    min1_5[index] = np.amin(dist[dist!=0])\n",
    "\n",
    "   \n",
    "        "
   ]
  },
  {
   "cell_type": "code",
   "execution_count": 73,
   "metadata": {},
   "outputs": [
    {
     "name": "stdout",
     "output_type": "stream",
     "text": [
      "Wall time: 789 ms\n"
     ]
    }
   ],
   "source": [
    "%%time\n",
    "min1_6 = np.zeros(len(xyz1_6))\n",
    "for index,pos in enumerate(xyz1_6):\n",
    "    dist = np.sqrt(np.sum((pos-xyz1_6)**2,axis=1))\n",
    "    min1_6[index] = np.amin(dist[dist!=0])\n",
    "\n",
    "   \n",
    "        "
   ]
  },
  {
   "cell_type": "code",
   "execution_count": 74,
   "metadata": {},
   "outputs": [
    {
     "name": "stdout",
     "output_type": "stream",
     "text": [
      "Wall time: 868 ms\n"
     ]
    }
   ],
   "source": [
    "%%time\n",
    "min1_7 = np.zeros(len(xyz1_7))\n",
    "for index,pos in enumerate(xyz1_7):\n",
    "    dist = np.sqrt(np.sum((pos-xyz1_7)**2,axis=1))\n",
    "    min1_7[index] = np.amin(dist[dist!=0])\n",
    "\n",
    "   \n",
    "        "
   ]
  },
  {
   "cell_type": "code",
   "execution_count": 75,
   "metadata": {},
   "outputs": [
    {
     "name": "stdout",
     "output_type": "stream",
     "text": [
      "Wall time: 848 ms\n"
     ]
    }
   ],
   "source": [
    "%%time\n",
    "min1_8 = np.zeros(len(xyz1_8))\n",
    "for index,pos in enumerate(xyz1_8):\n",
    "    dist = np.sqrt(np.sum((pos-xyz1_8)**2,axis=1))\n",
    "    min1_8[index] = np.amin(dist[dist!=0])\n",
    "\n",
    "   \n",
    "        "
   ]
  },
  {
   "cell_type": "code",
   "execution_count": 76,
   "metadata": {},
   "outputs": [
    {
     "data": {
      "image/png": "[encoded data removed]",
      "text/plain": [
       "<Figure size 432x288 with 1 Axes>"
      ]
     },
     "metadata": {
      "needs_background": "light"
     },
     "output_type": "display_data"
    }
   ],
   "source": [
    "g1_1,bins,_ = plt.hist(min1_1,bins,density=True)\n",
    "g1_2,bins,_  = plt.hist(min1_2,bins,density=True)\n",
    "g1_3,bins,_  = plt.hist(min1_3,bins,density=True)\n",
    "g1_4,bins,_  = plt.hist(min1_4,bins,density=True)\n",
    "g1_5,bins,_  = plt.hist(min1_5,bins,density=True)\n",
    "g1_6,bins,_  = plt.hist(min1_6,bins,density=True)\n",
    "g1_7,bins,_  = plt.hist(min1_7,bins,density=True)\n",
    "g1_8,bins,_  = plt.hist(min1_8,bins,density=True)"
   ]
  },
  {
   "cell_type": "code",
   "execution_count": 77,
   "metadata": {},
   "outputs": [],
   "source": [
    "g_0_mean125 = np.mean((g0_1,g0_2,g0_3,g0_4,g0_5,g0_6,g0_7,g0_8),axis = 0)\n",
    "g_0_std125 = np.std((g0_1,g0_2,g0_3,g0_4,g0_5,g0_6,g0_7,g0_8),axis = 0)\n",
    "\n",
    "g_05_mean125 = np.mean((g05_1,g05_2,g05_3,g05_4,g05_5,g05_6,g05_7,g05_8),axis = 0)\n",
    "g_05_std125 = np.std((g05_1,g05_2,g05_3,g05_4,g05_5,g05_6,g05_7,g05_8),axis = 0)\n",
    "\n",
    "\n",
    "g_1_mean125 = np.mean((g1_1,g1_2,g1_3,g1_4,g1_5,g1_6,g1_7,g1_8),axis = 0)\n",
    "g_1_std125 = np.std((g1_1,g1_2,g1_3,g1_4,g1_5,g1_6,g1_7,g1_8),axis = 0)"
   ]
  },
  {
   "cell_type": "code",
   "execution_count": 78,
   "metadata": {},
   "outputs": [
    {
     "data": {
      "text/plain": [
       "(39,)"
      ]
     },
     "execution_count": 78,
     "metadata": {},
     "output_type": "execute_result"
    }
   ],
   "source": [
    "g_0_mean125.shape"
   ]
  },
  {
   "cell_type": "code",
   "execution_count": 79,
   "metadata": {},
   "outputs": [],
   "source": [
    "data0 = pd.read_csv('z0m5e11.csv')\n",
    "data05 = pd.read_csv('z05m5e11.csv')\n",
    "data1 = pd.read_csv('z1m5e11.csv')"
   ]
  },
  {
   "cell_type": "markdown",
   "metadata": {},
   "source": [
    "# Minimum distance between halos"
   ]
  },
  {
   "cell_type": "code",
   "execution_count": 80,
   "metadata": {},
   "outputs": [],
   "source": [
    "data0['log_mass'] = np.log10(data0['mass'])\n",
    "data05['log_mass'] = np.log10(data05['mass'])\n",
    "data1['log_mass'] = np.log10(data1['mass'])"
   ]
  },
  {
   "cell_type": "code",
   "execution_count": 81,
   "metadata": {},
   "outputs": [],
   "source": [
    "data1 = data1[(data1['log_mass']>13)&(data1['log_mass']<13.5)]\n",
    "data05= data05[(data05['log_mass']>13)&(data05['log_mass']<13.5)]\n",
    "data0= data0[(data0['log_mass']>13)&(data0['log_mass']<13.5)]\n"
   ]
  },
  {
   "cell_type": "code",
   "execution_count": 82,
   "metadata": {},
   "outputs": [
    {
     "data": {
      "text/plain": [
       "20968"
      ]
     },
     "execution_count": 82,
     "metadata": {},
     "output_type": "execute_result"
    }
   ],
   "source": [
    "len(data0)"
   ]
  },
  {
   "cell_type": "code",
   "execution_count": 83,
   "metadata": {},
   "outputs": [],
   "source": [
    "data0_1 = data0[(data0['x']<200)&(data0['y']<200)&(data0['z']<200)]\n",
    "data0_2 = data0[(data0['x']<200)&(data0['y']<200)&(data0['z']>200)]\n",
    "data0_3 = data0[(data0['x']<200)&(data0['y']>200)&(data0['z']<200)]\n",
    "data0_4 = data0[(data0['x']>200)&(data0['y']<200)&(data0['z']<200)]\n",
    "data0_5 = data0[(data0['x']>200)&(data0['y']>200)&(data0['z']<200)]\n",
    "data0_6 = data0[(data0['x']>200)&(data0['y']<200)&(data0['z']>200)]\n",
    "data0_7 = data0[(data0['x']<200)&(data0['y']>200)&(data0['z']>200)]\n",
    "data0_8 = data0[(data0['x']>200)&(data0['y']>200)&(data0['z']>200)]"
   ]
  },
  {
   "cell_type": "code",
   "execution_count": 84,
   "metadata": {},
   "outputs": [],
   "source": [
    "xyz0_1 = data0_1[['x','y','z']].values\n",
    "xyz0_2 = data0_2[['x','y','z']].values\n",
    "xyz0_3 = data0_3[['x','y','z']].values\n",
    "xyz0_4 = data0_4[['x','y','z']].values\n",
    "xyz0_5 = data0_5[['x','y','z']].values\n",
    "xyz0_6 = data0_6[['x','y','z']].values\n",
    "xyz0_7 = data0_7[['x','y','z']].values\n",
    "xyz0_8 = data0_8[['x','y','z']].values"
   ]
  },
  {
   "cell_type": "code",
   "execution_count": 85,
   "metadata": {},
   "outputs": [
    {
     "name": "stdout",
     "output_type": "stream",
     "text": [
      "Wall time: 207 ms\n"
     ]
    }
   ],
   "source": [
    "%%time\n",
    "min0_1 = np.zeros(len(xyz0_1))\n",
    "for index,pos in enumerate(xyz0_1):\n",
    "    dist = np.sqrt(np.sum((pos-xyz0_1)**2,axis=1))\n",
    "    min0_1[index] = np.amin(dist[dist!=0])\n",
    "\n",
    "   \n",
    "        "
   ]
  },
  {
   "cell_type": "code",
   "execution_count": 86,
   "metadata": {},
   "outputs": [
    {
     "name": "stdout",
     "output_type": "stream",
     "text": [
      "Wall time: 207 ms\n"
     ]
    }
   ],
   "source": [
    "%%time\n",
    "min0_2 = np.zeros(len(xyz0_2))\n",
    "for index,pos in enumerate(xyz0_2):\n",
    "    dist = np.sqrt(np.sum((pos-xyz0_2)**2,axis=1))\n",
    "    min0_2[index] = np.amin(dist[dist!=0])\n",
    "\n",
    "   \n",
    "        "
   ]
  },
  {
   "cell_type": "code",
   "execution_count": 87,
   "metadata": {},
   "outputs": [
    {
     "name": "stdout",
     "output_type": "stream",
     "text": [
      "Wall time: 214 ms\n"
     ]
    }
   ],
   "source": [
    "%%time\n",
    "min0_3 = np.zeros(len(xyz0_3))\n",
    "for index,pos in enumerate(xyz0_3):\n",
    "    dist = np.sqrt(np.sum((pos-xyz0_3)**2,axis=1))\n",
    "    min0_3[index] = np.amin(dist[dist!=0])\n",
    "\n",
    "   \n",
    "        "
   ]
  },
  {
   "cell_type": "code",
   "execution_count": 88,
   "metadata": {},
   "outputs": [
    {
     "name": "stdout",
     "output_type": "stream",
     "text": [
      "Wall time: 223 ms\n"
     ]
    }
   ],
   "source": [
    "%%time\n",
    "min0_4 = np.zeros(len(xyz0_4))\n",
    "for index,pos in enumerate(xyz0_4):\n",
    "    dist = np.sqrt(np.sum((pos-xyz0_4)**2,axis=1))\n",
    "    min0_4[index] = np.amin(dist[dist!=0])\n",
    "\n",
    "   \n",
    "        "
   ]
  },
  {
   "cell_type": "code",
   "execution_count": 89,
   "metadata": {},
   "outputs": [
    {
     "name": "stdout",
     "output_type": "stream",
     "text": [
      "Wall time: 235 ms\n"
     ]
    }
   ],
   "source": [
    "%%time\n",
    "min0_5 = np.zeros(len(xyz0_5))\n",
    "for index,pos in enumerate(xyz0_5):\n",
    "    dist = np.sqrt(np.sum((pos-xyz0_5)**2,axis=1))\n",
    "    min0_5[index] = np.amin(dist[dist!=0])\n",
    "\n",
    "   \n",
    "        "
   ]
  },
  {
   "cell_type": "code",
   "execution_count": 90,
   "metadata": {},
   "outputs": [
    {
     "name": "stdout",
     "output_type": "stream",
     "text": [
      "Wall time: 219 ms\n"
     ]
    }
   ],
   "source": [
    "%%time\n",
    "min0_6 = np.zeros(len(xyz0_6))\n",
    "for index,pos in enumerate(xyz0_6):\n",
    "    dist = np.sqrt(np.sum((pos-xyz0_6)**2,axis=1))\n",
    "    min0_6[index] = np.amin(dist[dist!=0])\n",
    "\n",
    "   \n",
    "        "
   ]
  },
  {
   "cell_type": "code",
   "execution_count": 91,
   "metadata": {},
   "outputs": [
    {
     "name": "stdout",
     "output_type": "stream",
     "text": [
      "Wall time: 252 ms\n"
     ]
    }
   ],
   "source": [
    "%%time\n",
    "min0_7 = np.zeros(len(xyz0_7))\n",
    "for index,pos in enumerate(xyz0_7):\n",
    "    dist = np.sqrt(np.sum((pos-xyz0_7)**2,axis=1))\n",
    "    min0_7[index] = np.amin(dist[dist!=0])\n",
    "\n",
    "   \n",
    "        "
   ]
  },
  {
   "cell_type": "code",
   "execution_count": 92,
   "metadata": {},
   "outputs": [
    {
     "name": "stdout",
     "output_type": "stream",
     "text": [
      "Wall time: 251 ms\n"
     ]
    }
   ],
   "source": [
    "%%time\n",
    "min0_8 = np.zeros(len(xyz0_8))\n",
    "for index,pos in enumerate(xyz0_8):\n",
    "    dist = np.sqrt(np.sum((pos-xyz0_8)**2,axis=1))\n",
    "    min0_8[index] = np.amin(dist[dist!=0])\n",
    "\n",
    "   \n",
    "        "
   ]
  },
  {
   "cell_type": "code",
   "execution_count": 93,
   "metadata": {},
   "outputs": [],
   "source": [
    "bins13=np.logspace(-1,1.35,40)"
   ]
  },
  {
   "cell_type": "code",
   "execution_count": 94,
   "metadata": {},
   "outputs": [
    {
     "data": {
      "image/png": "[encoded data removed]",
      "text/plain": [
       "<Figure size 432x288 with 1 Axes>"
      ]
     },
     "metadata": {
      "needs_background": "light"
     },
     "output_type": "display_data"
    }
   ],
   "source": [
    "g0_1,bins13,_ = plt.hist(min0_1,bins13,density=True)\n",
    "g0_2,bins13,_  = plt.hist(min0_2,bins13,density=True)\n",
    "g0_3,bins13,_  = plt.hist(min0_3,bins13,density=True)\n",
    "g0_4,bins13,_  = plt.hist(min0_4,bins13,density=True)\n",
    "g0_5,bins13,_  = plt.hist(min0_5,bins13,density=True)\n",
    "g0_6,bins13,_  = plt.hist(min0_6,bins13,density=True)\n",
    "g0_7,bins13,_  = plt.hist(min0_7,bins13,density=True)\n",
    "g0_8,bins13,_  = plt.hist(min0_8,bins13,density=True)"
   ]
  },
  {
   "cell_type": "code",
   "execution_count": null,
   "metadata": {},
   "outputs": [],
   "source": []
  },
  {
   "cell_type": "code",
   "execution_count": null,
   "metadata": {},
   "outputs": [],
   "source": []
  },
  {
   "cell_type": "code",
   "execution_count": 95,
   "metadata": {},
   "outputs": [],
   "source": [
    "data05_1 = data05[(data05['x']<200)&(data05['y']<200)&(data05['z']<200)]\n",
    "data05_2 = data05[(data05['x']<200)&(data05['y']<200)&(data05['z']>200)]\n",
    "data05_3 = data05[(data05['x']<200)&(data05['y']>200)&(data05['z']<200)]\n",
    "data05_4 = data05[(data05['x']>200)&(data05['y']<200)&(data05['z']<200)]\n",
    "data05_5 = data05[(data05['x']>200)&(data05['y']>200)&(data05['z']<200)]\n",
    "data05_6 = data05[(data05['x']>200)&(data05['y']<200)&(data05['z']>200)]\n",
    "data05_7 = data05[(data05['x']<200)&(data05['y']>200)&(data05['z']>200)]\n",
    "data05_8 = data05[(data05['x']>200)&(data05['y']>200)&(data05['z']>200)]"
   ]
  },
  {
   "cell_type": "code",
   "execution_count": 96,
   "metadata": {},
   "outputs": [],
   "source": [
    "xyz05_1 = data05_1[['x','y','z']].values\n",
    "xyz05_2 = data05_2[['x','y','z']].values\n",
    "xyz05_3 = data05_3[['x','y','z']].values\n",
    "xyz05_4 = data05_4[['x','y','z']].values\n",
    "xyz05_5 = data05_5[['x','y','z']].values\n",
    "xyz05_6 = data05_6[['x','y','z']].values\n",
    "xyz05_7 = data05_7[['x','y','z']].values\n",
    "xyz05_8 = data05_8[['x','y','z']].values"
   ]
  },
  {
   "cell_type": "code",
   "execution_count": 97,
   "metadata": {},
   "outputs": [
    {
     "name": "stdout",
     "output_type": "stream",
     "text": [
      "Wall time: 163 ms\n"
     ]
    }
   ],
   "source": [
    "%%time\n",
    "min05_1 = np.zeros(len(xyz05_1))\n",
    "for index,pos in enumerate(xyz05_1):\n",
    "    dist = np.sqrt(np.sum((pos-xyz05_1)**2,axis=1))\n",
    "    min05_1[index] = np.amin(dist[dist!=0])\n",
    "\n",
    "   \n",
    "        "
   ]
  },
  {
   "cell_type": "code",
   "execution_count": 98,
   "metadata": {},
   "outputs": [
    {
     "name": "stdout",
     "output_type": "stream",
     "text": [
      "Wall time: 170 ms\n"
     ]
    }
   ],
   "source": [
    "%%time\n",
    "min05_2 = np.zeros(len(xyz05_2))\n",
    "for index,pos in enumerate(xyz05_2):\n",
    "    dist = np.sqrt(np.sum((pos-xyz05_2)**2,axis=1))\n",
    "    min05_2[index] = np.amin(dist[dist!=0])\n",
    "\n",
    "   \n",
    "        "
   ]
  },
  {
   "cell_type": "code",
   "execution_count": 99,
   "metadata": {},
   "outputs": [
    {
     "name": "stdout",
     "output_type": "stream",
     "text": [
      "Wall time: 154 ms\n"
     ]
    }
   ],
   "source": [
    "%%time\n",
    "min05_3 = np.zeros(len(xyz05_3))\n",
    "for index,pos in enumerate(xyz05_3):\n",
    "    dist = np.sqrt(np.sum((pos-xyz05_3)**2,axis=1))\n",
    "    min05_3[index] = np.amin(dist[dist!=0])\n",
    "\n",
    "   \n",
    "        "
   ]
  },
  {
   "cell_type": "code",
   "execution_count": 100,
   "metadata": {},
   "outputs": [
    {
     "name": "stdout",
     "output_type": "stream",
     "text": [
      "Wall time: 161 ms\n"
     ]
    }
   ],
   "source": [
    "%%time\n",
    "min05_4 = np.zeros(len(xyz05_4))\n",
    "for index,pos in enumerate(xyz05_4):\n",
    "    dist = np.sqrt(np.sum((pos-xyz05_4)**2,axis=1))\n",
    "    min05_4[index] = np.amin(dist[dist!=0])\n",
    "\n",
    "   \n",
    "        "
   ]
  },
  {
   "cell_type": "code",
   "execution_count": 101,
   "metadata": {},
   "outputs": [
    {
     "name": "stdout",
     "output_type": "stream",
     "text": [
      "Wall time: 170 ms\n"
     ]
    }
   ],
   "source": [
    "%%time\n",
    "min05_5 = np.zeros(len(xyz05_5))\n",
    "for index,pos in enumerate(xyz05_5):\n",
    "    dist = np.sqrt(np.sum((pos-xyz05_5)**2,axis=1))\n",
    "    min05_5[index] = np.amin(dist[dist!=0])\n",
    "\n",
    "   \n",
    "        "
   ]
  },
  {
   "cell_type": "code",
   "execution_count": 102,
   "metadata": {},
   "outputs": [
    {
     "name": "stdout",
     "output_type": "stream",
     "text": [
      "Wall time: 154 ms\n"
     ]
    }
   ],
   "source": [
    "%%time\n",
    "min05_6 = np.zeros(len(xyz05_6))\n",
    "for index,pos in enumerate(xyz05_6):\n",
    "    dist = np.sqrt(np.sum((pos-xyz05_6)**2,axis=1))\n",
    "    min05_6[index] = np.amin(dist[dist!=0])\n",
    "\n",
    "   \n",
    "        "
   ]
  },
  {
   "cell_type": "code",
   "execution_count": 103,
   "metadata": {},
   "outputs": [
    {
     "name": "stdout",
     "output_type": "stream",
     "text": [
      "Wall time: 180 ms\n"
     ]
    }
   ],
   "source": [
    "%%time\n",
    "min05_7 = np.zeros(len(xyz05_7))\n",
    "for index,pos in enumerate(xyz05_7):\n",
    "    dist = np.sqrt(np.sum((pos-xyz05_7)**2,axis=1))\n",
    "    min05_7[index] = np.amin(dist[dist!=0])\n",
    "\n",
    "   \n",
    "        "
   ]
  },
  {
   "cell_type": "code",
   "execution_count": 104,
   "metadata": {},
   "outputs": [
    {
     "name": "stdout",
     "output_type": "stream",
     "text": [
      "Wall time: 176 ms\n"
     ]
    }
   ],
   "source": [
    "%%time\n",
    "min05_8 = np.zeros(len(xyz05_8))\n",
    "for index,pos in enumerate(xyz05_8):\n",
    "    dist = np.sqrt(np.sum((pos-xyz05_8)**2,axis=1))\n",
    "    min05_8[index] = np.amin(dist[dist!=0])\n",
    "\n",
    "   \n",
    "        "
   ]
  },
  {
   "cell_type": "code",
   "execution_count": 105,
   "metadata": {},
   "outputs": [
    {
     "data": {
      "image/png": "[encoded data removed]",
      "text/plain": [
       "<Figure size 432x288 with 1 Axes>"
      ]
     },
     "metadata": {
      "needs_background": "light"
     },
     "output_type": "display_data"
    }
   ],
   "source": [
    "g05_1,bins13,_ = plt.hist(min05_1,bins13,density=True)\n",
    "g05_2,bins13,_  = plt.hist(min05_2,bins13,density=True)\n",
    "g05_3,bins13,_  = plt.hist(min05_3,bins13,density=True)\n",
    "g05_4,bins13,_  = plt.hist(min05_4,bins13,density=True)\n",
    "g05_5,bins13,_  = plt.hist(min05_5,bins13,density=True)\n",
    "g05_6,bins13,_  = plt.hist(min05_6,bins13,density=True)\n",
    "g05_7,bins13,_  = plt.hist(min05_7,bins13,density=True)\n",
    "g05_8,bins13,_  = plt.hist(min05_8,bins13,density=True)"
   ]
  },
  {
   "cell_type": "code",
   "execution_count": null,
   "metadata": {},
   "outputs": [],
   "source": []
  },
  {
   "cell_type": "code",
   "execution_count": null,
   "metadata": {},
   "outputs": [],
   "source": []
  },
  {
   "cell_type": "code",
   "execution_count": 106,
   "metadata": {},
   "outputs": [],
   "source": [
    "data1_1 = data1[(data1['x']<200)&(data1['y']<200)&(data1['z']<200)]\n",
    "data1_2 = data1[(data1['x']<200)&(data1['y']<200)&(data1['z']>200)]\n",
    "data1_3 = data1[(data1['x']<200)&(data1['y']>200)&(data1['z']<200)]\n",
    "data1_4 = data1[(data1['x']>200)&(data1['y']<200)&(data1['z']<200)]\n",
    "data1_5 = data1[(data1['x']>200)&(data1['y']>200)&(data1['z']<200)]\n",
    "data1_6 = data1[(data1['x']>200)&(data1['y']<200)&(data1['z']>200)]\n",
    "data1_7 = data1[(data1['x']<200)&(data1['y']>200)&(data1['z']>200)]\n",
    "data1_8 = data1[(data1['x']>200)&(data1['y']>200)&(data1['z']>200)]"
   ]
  },
  {
   "cell_type": "code",
   "execution_count": 107,
   "metadata": {},
   "outputs": [],
   "source": [
    "xyz1_1 = data1_1[['x','y','z']].values\n",
    "xyz1_2 = data1_2[['x','y','z']].values\n",
    "xyz1_3 = data1_3[['x','y','z']].values\n",
    "xyz1_4 = data1_4[['x','y','z']].values\n",
    "xyz1_5 = data1_5[['x','y','z']].values\n",
    "xyz1_6 = data1_6[['x','y','z']].values\n",
    "xyz1_7 = data1_7[['x','y','z']].values\n",
    "xyz1_8 = data1_8[['x','y','z']].values"
   ]
  },
  {
   "cell_type": "code",
   "execution_count": 108,
   "metadata": {},
   "outputs": [
    {
     "name": "stdout",
     "output_type": "stream",
     "text": [
      "Wall time: 80 ms\n"
     ]
    }
   ],
   "source": [
    "%%time\n",
    "min1_1 = np.zeros(len(xyz1_1))\n",
    "for index,pos in enumerate(xyz1_1):\n",
    "    dist = np.sqrt(np.sum((pos-xyz1_1)**2,axis=1))\n",
    "    min1_1[index] = np.amin(dist[dist!=0])\n",
    "\n",
    "   \n",
    "        "
   ]
  },
  {
   "cell_type": "code",
   "execution_count": 109,
   "metadata": {},
   "outputs": [
    {
     "name": "stdout",
     "output_type": "stream",
     "text": [
      "Wall time: 95.9 ms\n"
     ]
    }
   ],
   "source": [
    "%%time\n",
    "min1_2 = np.zeros(len(xyz1_2))\n",
    "for index,pos in enumerate(xyz1_2):\n",
    "    dist = np.sqrt(np.sum((pos-xyz1_2)**2,axis=1))\n",
    "    min1_2[index] = np.amin(dist[dist!=0])\n",
    "\n",
    "   \n",
    "        "
   ]
  },
  {
   "cell_type": "code",
   "execution_count": 110,
   "metadata": {},
   "outputs": [
    {
     "name": "stdout",
     "output_type": "stream",
     "text": [
      "Wall time: 85.9 ms\n"
     ]
    }
   ],
   "source": [
    "%%time\n",
    "min1_3 = np.zeros(len(xyz1_3))\n",
    "for index,pos in enumerate(xyz1_3):\n",
    "    dist = np.sqrt(np.sum((pos-xyz1_3)**2,axis=1))\n",
    "    min1_3[index] = np.amin(dist[dist!=0])\n",
    "\n",
    "   \n",
    "        "
   ]
  },
  {
   "cell_type": "code",
   "execution_count": 111,
   "metadata": {},
   "outputs": [
    {
     "name": "stdout",
     "output_type": "stream",
     "text": [
      "Wall time: 92.9 ms\n"
     ]
    }
   ],
   "source": [
    "%%time\n",
    "min1_4 = np.zeros(len(xyz1_4))\n",
    "for index,pos in enumerate(xyz1_4):\n",
    "    dist = np.sqrt(np.sum((pos-xyz1_4)**2,axis=1))\n",
    "    min1_4[index] = np.amin(dist[dist!=0])\n",
    "\n",
    "   \n",
    "        "
   ]
  },
  {
   "cell_type": "code",
   "execution_count": 112,
   "metadata": {},
   "outputs": [
    {
     "name": "stdout",
     "output_type": "stream",
     "text": [
      "Wall time: 94.9 ms\n"
     ]
    }
   ],
   "source": [
    "%%time\n",
    "min1_5 = np.zeros(len(xyz1_5))\n",
    "for index,pos in enumerate(xyz1_5):\n",
    "    dist = np.sqrt(np.sum((pos-xyz1_5)**2,axis=1))\n",
    "    min1_5[index] = np.amin(dist[dist!=0])\n",
    "\n",
    "   \n",
    "        "
   ]
  },
  {
   "cell_type": "code",
   "execution_count": 113,
   "metadata": {},
   "outputs": [
    {
     "name": "stdout",
     "output_type": "stream",
     "text": [
      "Wall time: 108 ms\n"
     ]
    }
   ],
   "source": [
    "%%time\n",
    "min1_6 = np.zeros(len(xyz1_6))\n",
    "for index,pos in enumerate(xyz1_6):\n",
    "    dist = np.sqrt(np.sum((pos-xyz1_6)**2,axis=1))\n",
    "    min1_6[index] = np.amin(dist[dist!=0])\n",
    "\n",
    "   \n",
    "        "
   ]
  },
  {
   "cell_type": "code",
   "execution_count": 114,
   "metadata": {},
   "outputs": [
    {
     "name": "stdout",
     "output_type": "stream",
     "text": [
      "Wall time: 120 ms\n"
     ]
    }
   ],
   "source": [
    "%%time\n",
    "min1_7 = np.zeros(len(xyz1_7))\n",
    "for index,pos in enumerate(xyz1_7):\n",
    "    dist = np.sqrt(np.sum((pos-xyz1_7)**2,axis=1))\n",
    "    min1_7[index] = np.amin(dist[dist!=0])\n",
    "\n",
    "   \n",
    "        "
   ]
  },
  {
   "cell_type": "code",
   "execution_count": 115,
   "metadata": {},
   "outputs": [
    {
     "name": "stdout",
     "output_type": "stream",
     "text": [
      "Wall time: 101 ms\n"
     ]
    }
   ],
   "source": [
    "%%time\n",
    "min1_8 = np.zeros(len(xyz1_8))\n",
    "for index,pos in enumerate(xyz1_8):\n",
    "    dist = np.sqrt(np.sum((pos-xyz1_8)**2,axis=1))\n",
    "    min1_8[index] = np.amin(dist[dist!=0])\n",
    "\n",
    "   \n",
    "        "
   ]
  },
  {
   "cell_type": "code",
   "execution_count": 116,
   "metadata": {},
   "outputs": [
    {
     "data": {
      "image/png": "[encoded data removed]",
      "text/plain": [
       "<Figure size 432x288 with 1 Axes>"
      ]
     },
     "metadata": {
      "needs_background": "light"
     },
     "output_type": "display_data"
    }
   ],
   "source": [
    "g1_1,bins13,_ = plt.hist(min1_1,bins13,density=True)\n",
    "g1_2,bins13,_  = plt.hist(min1_2,bins13,density=True)\n",
    "g1_3,bins13,_  = plt.hist(min1_3,bins13,density=True)\n",
    "g1_4,bins13,_  = plt.hist(min1_4,bins13,density=True)\n",
    "g1_5,bins13,_  = plt.hist(min1_5,bins13,density=True)\n",
    "g1_6,bins13,_  = plt.hist(min1_6,bins13,density=True)\n",
    "g1_7,bins13,_  = plt.hist(min1_7,bins13,density=True)\n",
    "g1_8,bins13,_  = plt.hist(min1_8,bins13,density=True)"
   ]
  },
  {
   "cell_type": "code",
   "execution_count": 117,
   "metadata": {},
   "outputs": [],
   "source": [
    "g_0_mean13 = np.mean((g0_1,g0_2,g0_3,g0_4,g0_5,g0_6,g0_7,g0_8),axis = 0)\n",
    "g_0_std13 = np.std((g0_1,g0_2,g0_3,g0_4,g0_5,g0_6,g0_7,g0_8),axis = 0)\n",
    "\n",
    "g_05_mean13 = np.mean((g05_1,g05_2,g05_3,g05_4,g05_5,g05_6,g05_7,g05_8),axis = 0)\n",
    "g_05_std13 = np.std((g05_1,g05_2,g05_3,g05_4,g05_5,g05_6,g05_7,g05_8),axis = 0)\n",
    "\n",
    "\n",
    "g_1_mean13 = np.mean((g1_1,g1_2,g1_3,g1_4,g1_5,g1_6,g1_7,g1_8),axis = 0)\n",
    "g_1_std13 = np.std((g1_1,g1_2,g1_3,g1_4,g1_5,g1_6,g1_7,g1_8),axis = 0)"
   ]
  },
  {
   "cell_type": "code",
   "execution_count": 120,
   "metadata": {},
   "outputs": [
    {
     "data": {
      "text/plain": [
       "(39,)"
      ]
     },
     "execution_count": 120,
     "metadata": {},
     "output_type": "execute_result"
    }
   ],
   "source": [
    "g_0_mean12.shape"
   ]
  },
  {
   "cell_type": "code",
   "execution_count": 119,
   "metadata": {},
   "outputs": [],
   "source": [
    "bincenters = 0.5*(bins[1:]+bins[:-1])\n",
    "bincenters13 = 0.5*(bins13[1:]+bins13[:-1])"
   ]
  },
  {
   "cell_type": "code",
   "execution_count": 120,
   "metadata": {},
   "outputs": [
    {
     "name": "stderr",
     "output_type": "stream",
     "text": [
      "C:\\Users\\zahra\\Anaconda3\\lib\\site-packages\\matplotlib\\cbook\\deprecation.py:107: MatplotlibDeprecationWarning: Passing one of 'on', 'true', 'off', 'false' as a boolean is deprecated; use an actual boolean (True/False) instead.\n",
      "  warnings.warn(message, mplDeprecation, stacklevel=1)\n"
     ]
    },
    {
     "data": {
      "text/plain": [
       "<matplotlib.legend.Legend at 0x1c792f8a6a0>"
      ]
     },
     "execution_count": 120,
     "metadata": {},
     "output_type": "execute_result"
    },
    {
     "data": {
      "image/png": "[encoded data removed]",
      "text/plain": [
       "<Figure size 576x1440 with 3 Axes>"
      ]
     },
     "metadata": {
      "needs_background": "light"
     },
     "output_type": "display_data"
    }
   ],
   "source": [
    "fig = plt.figure(figsize=(8,20))\n",
    "csfont = {'fontname':'Times New Roman'}\n",
    "params = {'legend.fontsize': 'x-large',\n",
    "          'font.family':'Times New Roman',\n",
    "         'axes.labelsize': 'x-large',\n",
    "         'axes.titlesize':'x-large',\n",
    "         'xtick.labelsize':'x-large',\n",
    "         'ytick.labelsize':'x-large'}\n",
    "plt.rcParams.update(params) \n",
    "ax = fig.add_subplot(311,title = '$12.0<log(M/M_0h)<12.5$',xlabel='Nearest Neighbor Distance(Mpc/h)',ylabel = '$P_{NND}(r)$')\n",
    "#ax.plot(bincenters12,counts12,color = 'red')\n",
    "ax.errorbar(bincenters ,g_0_mean12,yerr =g_0_std12 ,fmt ='o',color = 'blue',label= '$z=0.0$')\n",
    "ax.errorbar(bincenters ,g_05_mean12,yerr =g_05_std12 ,fmt ='o',color = 'red',label= '$z=0.5$')\n",
    "ax.errorbar(bincenters ,g_1_mean12,yerr =g_1_std12 ,fmt ='o',color = 'green',label= '$z=1.0$')\n",
    "#ax.plot(r,poisson_12,'^b',label='Poisson Distribution')\n",
    "plt.grid('on')\n",
    "plt.legend(loc=0,fontsize=12)\n",
    "plt.xlim(0,11)\n",
    "ax = fig.add_subplot(312,title = '$12.5<log(M/M_0h)<13.0$',xlabel='Nearest Neighbor Distance(Mpc/h)',ylabel = '$P_{NND}(r)$')\n",
    "#ax.plot(bincenters12_5,counts12_5,color = 'blue')\n",
    "ax.errorbar(bincenters ,g_0_mean125,yerr =g_0_std125 ,fmt ='o',color = 'blue',label= '$z=0.0$')\n",
    "ax.errorbar(bincenters ,g_05_mean125,yerr =g_05_std125 ,fmt ='o',color = 'red',label= '$z=0.5$')\n",
    "ax.errorbar(bincenters ,g_1_mean125,yerr =g_1_std125 ,fmt ='o',color = 'green',label= '$z=1.0$')\n",
    "#ax.plot(r,poisson_12_5,'^b')\n",
    "plt.grid('on')\n",
    "plt.xlim(0,15)\n",
    "plt.legend(loc=0,fontsize=12)\n",
    "ax = fig.add_subplot(313,title = '$13.0<log(M/M_0h)<13.5$',xlabel='Nearest Neighbor Distance(Mpc/h)',ylabel = '$P_{NND}(r)$')\n",
    "#ax.plot(bincenters13,counts13,color = 'green')\n",
    "ax.errorbar(bincenters13,g_0_mean13,yerr =g_0_std13 ,fmt ='o',color = 'blue',label= '$z=0.0$')\n",
    "ax.errorbar(bincenters13,g_05_mean13,yerr =g_05_std13 ,fmt ='o',color = 'red',label= '$z=0.5$')\n",
    "ax.errorbar(bincenters13,g_1_mean13,yerr =g_1_std13 ,fmt ='o',color = 'green',label= '$z=1.0$')\n",
    "#ax.plot(r,poisson_13,'^b')\n",
    "plt.grid('on')\n",
    "\n",
    "\n",
    "\n",
    "\n",
    "\n",
    "#plt.savefig('delta_correlation.png')\n",
    "\n",
    "plt.xticks(fontsize=20)\n",
    "plt.yticks(fontsize=20)\n",
    "#plt.plot(m_ps,num_ps,'green',label ='Press & Schechter' )\n",
    "#plt.xscale('log')\n",
    "#plt.yscale('log')\n",
    "\n",
    "plt.grid('on')\n",
    "plt.legend(loc=0,fontsize=12)\n",
    "\n",
    "\n",
    "\n",
    "\n",
    "\n",
    "#plt.savefig('min_dist.png')\n",
    "\n",
    "\n",
    "\n",
    "\n",
    "\n",
    "#plt.savefig('min_dist_smdpl-z1.eps')\n",
    "\n",
    "#plt.scatter(bins12[:-1],counts13)\n",
    "#plt.scatter(bins12_5[:-1],counts12_5)\n",
    "#plt.scatter(bins13[:-1],counts12)\n"
   ]
  },
  {
   "cell_type": "code",
   "execution_count": 266,
   "metadata": {},
   "outputs": [
    {
     "data": {
      "image/png": "[encoded data removed]",
      "text/plain": [
       "<Figure size 2160x576 with 3 Axes>"
      ]
     },
     "metadata": {
      "needs_background": "light"
     },
     "output_type": "display_data"
    }
   ],
   "source": [
    "fig = plt.figure(figsize=(30,8))\n",
    "params = {'legend.fontsize': 'X-large',\n",
    "         'font.family':'Times New Roman', \n",
    "         'axes.labelsize': 'X-large',\n",
    "         'axes.titlesize':'X-large',\n",
    "         'xtick.labelsize':'X-large',\n",
    "         'ytick.labelsize':'X-large'}\n",
    "plt.rcParams.update(params)\n",
    "\n",
    "ax = fig.add_subplot(131,xlabel='Nearest Neighbor Distance[Mpc/h]',ylabel ='$P_{NND}(r)$',title='$log(M/M_\\odot h)>12$')\n",
    "ax.errorbar(bincenters ,g_0_mean12,yerr =g_0_std12 ,fmt ='o',color = 'blue',label= '$z=0.0$')\n",
    "ax.errorbar(bincenters ,g_05_mean12,yerr =g_05_std12 ,fmt ='s',color = 'red',label= '$z=0.5$')\n",
    "ax.errorbar(bincenters ,g_1_mean12,yerr =g_1_std12 ,fmt ='^',color = 'green',label= '$z=1.0$')\n",
    "ax.legend(loc=0)\n",
    "plt.grid('on')\n",
    "ax = fig.add_subplot(132,xlabel='Nearest Neighbor Distance[Mpc/h]',ylabel ='$P_{NND}(r)$',title='$log(M/M_\\odot h)>12.5$')\n",
    "ax.errorbar(bincenters ,g_0_mean125,yerr =g_0_std125 ,fmt ='o',color = 'blue',label= '$z=0.0$')\n",
    "ax.errorbar(bincenters ,g_05_mean125,yerr =g_05_std125 ,fmt ='s',color = 'red',label= '$z=0.5$')\n",
    "ax.errorbar(bincenters ,g_1_mean125,yerr =g_1_std125 ,fmt ='^',color = 'green',label= '$z=1.0$')\n",
    "ax.legend(loc=0)\n",
    "plt.grid('on')\n",
    "ax = fig.add_subplot(133,xlabel='Nearest Neighbor Distance[Mpc/h]',ylabel ='$P_{NND}(r)$',title='$og(M/M_\\odot h)>13$')\n",
    "ax.errorbar(bincenters13,g_0_mean13,yerr =g_0_std13 ,fmt ='o',color = 'blue',label= '$z=0.0$')\n",
    "ax.errorbar(bincenters13,g_05_mean13,yerr =g_05_std13 ,fmt ='s',color = 'red',label= '$z=0.5$')\n",
    "ax.errorbar(bincenters13,g_1_mean13,yerr =g_1_std13 ,fmt ='^',color = 'green',label= '$z=1.0$')\n",
    "ax.legend(loc=0)\n",
    "plt.grid('on')\n",
    "plt.savefig('3.jpg')"
   ]
  },
  {
   "cell_type": "code",
   "execution_count": 122,
   "metadata": {},
   "outputs": [
    {
     "data": {
      "image/png": "[encoded data removed]",
      "text/plain": [
       "<Figure size 2160x576 with 3 Axes>"
      ]
     },
     "metadata": {
      "needs_background": "light"
     },
     "output_type": "display_data"
    }
   ],
   "source": [
    "fig = plt.figure(figsize=(30,8))\n",
    "params = {'legend.fontsize': 'X-large',\n",
    "         'font.family':'Times New Roman', \n",
    "         'axes.labelsize': 'X-large',\n",
    "         'axes.titlesize':'X-large',\n",
    "         'xtick.labelsize':'X-large',\n",
    "         'ytick.labelsize':'X-large'}\n",
    "plt.rcParams.update(params)\n",
    "\n",
    "ax = fig.add_subplot(131,xlabel='Nearest Neighbor Distance[Mpc/h]',ylabel ='$P_{NND}(r)$')\n",
    "ax.plot(bincenters ,g_0_mean12,color = 'blue',label= '$z=0.0$')\n",
    "plt.fill_between(bincenters , g_0_mean12-g_0_std12,g_0_mean12+ g_0_std12,color ='lightblue', alpha=1)\n",
    "ax.plot(bincenters ,g_05_mean12 ,'r--',label= '$z=0.5$')\n",
    "plt.fill_between(bincenters , g_05_mean12-g_05_std12,g_05_mean12+ g_05_std12,color ='coral', alpha=0.4)\n",
    "ax.plot(bincenters ,g_1_mean12, 'g:',label= '$z=1.0$')\n",
    "plt.fill_between(bincenters , g_1_mean12-g_1_std12,g_1_mean12+ g_1_std12,color ='lightgreen', alpha=0.3)\n",
    "ax.legend(loc=0,fontsize=30)\n",
    "plt.xlabel('r[Mpc/h]',fontsize=30)\n",
    "plt.xticks(fontsize=25 ) \n",
    "plt.yticks(fontsize=25 )\n",
    "plt.ylabel('$P_{NND}(r)$',fontsize=30)\n",
    "plt.title('$12.0<log(M/M_\\odot h)<12.5$',fontsize=30)\n",
    "plt.grid('on')\n",
    "ax = fig.add_subplot(132,xlabel='Nearest Neighbor Distance[Mpc/h]',ylabel ='$P_{NND}(r)$')\n",
    "ax.plot(bincenters ,g_0_mean125,color = 'blue',label= '$z=0.0$')\n",
    "plt.fill_between(bincenters , g_0_mean125-g_0_std125,g_0_mean125+ g_0_std125,color ='lightblue', alpha=1)\n",
    "ax.plot(bincenters ,g_05_mean125 ,'r--',label= '$z=0.5$')\n",
    "plt.fill_between(bincenters , g_05_mean125-g_05_std125,g_05_mean125+ g_05_std125,color ='coral', alpha=0.4)\n",
    "ax.plot(bincenters ,g_1_mean125,'g:',label= '$z=1.0$')\n",
    "plt.fill_between(bincenters , g_1_mean125-g_1_std125,g_1_mean125+ g_1_std125,color ='lightgreen', alpha=0.3)\n",
    "ax.legend(loc=0,fontsize=30)\n",
    "plt.xlabel('r[Mpc/h]',fontsize=30)\n",
    "plt.xticks(fontsize=25 ) \n",
    "plt.yticks(fontsize=25 )\n",
    "plt.ylabel('$P_{NND}(r)$',fontsize=30)\n",
    "plt.title('$12.5<log(M/M_\\odot h)<13.0$',fontsize=30)\n",
    "plt.grid('on')\n",
    "ax = fig.add_subplot(133,xlabel='Nearest Neighbor Distance[Mpc/h]',ylabel ='$P_{NND}(r)$')\n",
    "ax.plot(bincenters ,g_0_mean13,color = 'blue',label= '$z=0.0$')\n",
    "plt.fill_between(bincenters , g_0_mean13-g_0_std13,g_0_mean13+ g_0_std13,color ='lightblue', alpha=1)\n",
    "ax.plot(bincenters ,g_05_mean13 ,'r--',label= '$z=0.5$')\n",
    "plt.fill_between(bincenters , g_05_mean13-g_05_std13,g_05_mean13+ g_05_std13,color ='coral', alpha=0.4)\n",
    "ax.plot(bincenters ,g_1_mean13, 'g:',label= '$z=1.0$')\n",
    "plt.fill_between(bincenters , g_1_mean13-g_1_std13,g_1_mean13+ g_1_std13,color ='lightgreen', alpha=0.3)\n",
    "ax.legend(loc=0,fontsize=30)\n",
    "plt.xticks(fontsize=25 ) \n",
    "plt.yticks(fontsize=25 )\n",
    "plt.xlabel('r[Mpc/h]',fontsize=30)\n",
    "plt.ylabel('$P_{NND}(r)$',fontsize=30)\n",
    "plt.title('$13.0<log(M/M_\\odot h)<13.5$',fontsize=30)\n",
    "plt.grid('on')\n",
    "plt.savefig('NND-redshift-massranges1.png')"
   ]
  }
 ],
 "metadata": {
  "kernelspec": {
   "display_name": "Python 3",
   "language": "python",
   "name": "python3"
  },
  "language_info": {
   "codemirror_mode": {
    "name": "ipython",
    "version": 3
   },
   "file_extension": ".py",
   "mimetype": "text/x-python",
   "name": "python",
   "nbconvert_exporter": "python",
   "pygments_lexer": "ipython3",
   "version": "3.7.0"
  }
 },
 "nbformat": 4,
 "nbformat_minor": 2
}
